{
 "cells": [
  {
   "cell_type": "code",
   "execution_count": 1,
   "metadata": {},
   "outputs": [],
   "source": [
    "import numpy as np\n",
    "import pandas as pd\n",
    "import matplotlib.pyplot as plt\n",
    "\n",
    "from xgboost import XGBClassifier\n",
    "\n",
    "from sklearn.ensemble import GradientBoostingClassifier\n",
    "from sklearn.feature_selection import RFE, SelectKBest, chi2, SelectKBest, mutual_info_classif\n",
    "from sklearn.linear_model import LogisticRegression\n",
    "from sklearn.metrics import accuracy_score, brier_score_loss, roc_curve, auc, roc_auc_score\n",
    "from sklearn.model_selection import train_test_split, GridSearchCV\n",
    "from sklearn.preprocessing import LabelEncoder\n",
    "from sklearn.calibration import calibration_curve\n",
    "from sklearn.linear_model import LogisticRegression\n"
   ]
  },
  {
   "cell_type": "markdown",
   "metadata": {},
   "source": [
    "Grid Search"
   ]
  },
  {
   "cell_type": "code",
   "execution_count": null,
   "metadata": {},
   "outputs": [],
   "source": [
    "df = pd.read_csv('') # dataset path \n",
    "X = df.drop('Outcome', axis=1)\n",
    "y = df['Outcome']"
   ]
  },
  {
   "cell_type": "code",
   "execution_count": null,
   "metadata": {},
   "outputs": [],
   "source": [
    "roc_auc_scores = []\n",
    "accuracy_scores = []\n",
    "best_params_runs = []\n",
    "\n",
    "param_grid = {\n",
    "    'max_depth': [3, 5, 7, 9],\n",
    "    'learning_rate': [0.01, 0.05, 0.1, 0.2],\n",
    "    'n_estimators': [100, 200, 300, 500],\n",
    "}\n",
    "\n",
    "X_train, X_test, y_train, y_test = train_test_split(X, y, test_size=0.3, random_state=None)\n",
    "xgb = XGBClassifier()\n",
    "grid_search = GridSearchCV(estimator=xgb, param_grid=param_grid, scoring='roc_auc', cv=3)\n",
    "grid_search.fit(X_train, y_train)\n",
    "\n",
    "best_params_runs.append((grid_search.best_params_, grid_search.best_score_))\n",
    "\n",
    "best_model = grid_search.best_estimator_\n",
    "y_pred_proba = best_model.predict_proba(X_test)[:, 1]\n",
    "y_pred = best_model.predict(X_test)\n",
    "\n",
    "roc_auc_scores.append(roc_auc_score(y_test, y_pred_proba))\n",
    "accuracy_scores.append(accuracy_score(y_test, y_pred))\n",
    "    \n",
    "\n",
    "best_overall_params = max(best_params_runs, key=lambda item: item[1])[0]\n",
    "\n",
    "avg_roc_auc = np.mean(roc_auc_scores)\n",
    "avg_accuracy = np.mean(accuracy_scores)\n"
   ]
  },
  {
   "cell_type": "code",
   "execution_count": null,
   "metadata": {},
   "outputs": [],
   "source": [
    "roc_auc_scores = []\n",
    "accuracy_scores = []\n",
    "best_params_runs = [] \n",
    "\n",
    "param_grid = {\n",
    "    'penalty': ['l1', 'l2'],\n",
    "    'solver': ['liblinear', 'lbfgs', 'newton-cg', 'sag', 'saga'],\n",
    "    'C': [0.001, 0.01, 0.1, 1, 10, 100],\n",
    "    'max_iter': [100, 200, 300, 400, 500]\n",
    "}\n",
    "\n",
    "X_train, X_test, y_train, y_test = train_test_split(X, y, test_size=0.3, random_state=None)  # Random split\n",
    "\n",
    "logreg = LogisticRegression()\n",
    "grid_search = GridSearchCV(estimator=logreg, param_grid=param_grid, scoring='roc_auc', cv=3)\n",
    "grid_search.fit(X_train, y_train)\n",
    "\n",
    "best_params_runs.append((grid_search.best_params_, grid_search.best_score_))\n",
    "\n",
    "best_model = grid_search.best_estimator_\n",
    "\n",
    "y_pred = best_model.predict(X_test)\n",
    "\n",
    "roc_auc_scores.append(roc_auc_score(y_test, y_pred))\n",
    "accuracy_scores.append(accuracy_score(y_test, y_pred))\n",
    "\n",
    "best_overall_params = max(best_params_runs, key=lambda item: item[1])[0]\n",
    "\n",
    "avg_roc_auc = np.mean(roc_auc_scores)\n",
    "avg_accuracy = np.mean(accuracy_scores)\n",
    "\n"
   ]
  },
  {
   "cell_type": "markdown",
   "metadata": {},
   "source": [
    "XGB Modeling + Gender Analysis"
   ]
  },
  {
   "cell_type": "code",
   "execution_count": null,
   "metadata": {},
   "outputs": [],
   "source": [
    "X = df.drop('Outcome', axis=1)\n",
    "y = df['Outcome']\n",
    "\n",
    "n_runs = 30\n",
    "overall_roc_auc_scores = []\n",
    "overall_accuracy_scores = []\n",
    "male_roc_auc_scores = []\n",
    "male_accuracy_scores = []\n",
    "female_roc_auc_scores = []\n",
    "female_accuracy_scores = []\n",
    "\n",
    "for _ in range(n_runs):\n",
    "    # Split the data into training and testing sets\n",
    "    X_train, X_test, y_train, y_test = train_test_split(X, y, test_size=0.3, random_state=None)\n",
    "\n",
    "    # Train the model\n",
    "    xgb = XGBClassifier(learning_rate=0.1, max_depth=5, n_estimators=100)\n",
    "    xgb.fit(X_train, y_train)\n",
    "    \n",
    "    # Predict on test set\n",
    "    y_pred_proba = xgb.predict_proba(X_test)[:, 1]\n",
    "    y_pred = xgb.predict(X_test)\n",
    "    \n",
    "    # Overall scores\n",
    "    overall_roc_auc_scores.append(roc_auc_score(y_test, y_pred_proba))\n",
    "    overall_accuracy_scores.append(accuracy_score(y_test, y_pred))\n",
    "    \n",
    "    # Male scores\n",
    "    male_mask = (X_test['Female'] == 0)\n",
    "    if np.any(male_mask): # Check if there are any males in the test set\n",
    "        male_roc_auc_scores.append(roc_auc_score(y_test[male_mask], y_pred_proba[male_mask]))\n",
    "        male_accuracy_scores.append(accuracy_score(y_test[male_mask], y_pred[male_mask]))\n",
    "    \n",
    "    # Female scores\n",
    "    female_mask = (X_test['Female'] == 1)\n",
    "    if np.any(female_mask): # Check if there are any females in the test set\n",
    "        female_roc_auc_scores.append(roc_auc_score(y_test[female_mask], y_pred_proba[female_mask]))\n",
    "        female_accuracy_scores.append(accuracy_score(y_test[female_mask], y_pred[female_mask]))"
   ]
  }
 ],
 "metadata": {
  "kernelspec": {
   "display_name": "Python 3",
   "language": "python",
   "name": "python3"
  },
  "language_info": {
   "codemirror_mode": {
    "name": "ipython",
    "version": 3
   },
   "file_extension": ".py",
   "mimetype": "text/x-python",
   "name": "python",
   "nbconvert_exporter": "python",
   "pygments_lexer": "ipython3",
   "version": "3.11.1"
  }
 },
 "nbformat": 4,
 "nbformat_minor": 2
}
