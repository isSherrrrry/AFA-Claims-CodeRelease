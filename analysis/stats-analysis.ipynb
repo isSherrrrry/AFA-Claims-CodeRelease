{
 "cells": [
  {
   "cell_type": "code",
   "execution_count": null,
   "metadata": {},
   "outputs": [],
   "source": [
    "import pandas as pd\n",
    "from scipy import stats\n",
    "import numpy as np\n",
    "from sklearn.metrics import roc_auc_score\n",
    "from sklearn.utils import resample"
   ]
  },
  {
   "cell_type": "code",
   "execution_count": null,
   "metadata": {},
   "outputs": [],
   "source": [
    "data = pd.read_csv('./data/all_demo_2year.csv') # load your data"
   ]
  },
  {
   "cell_type": "code",
   "execution_count": null,
   "metadata": {},
   "outputs": [],
   "source": [
    "# Age\n",
    "group1 = data[data['Outcome'] == 0]['AGE']\n",
    "group2 = data[data['Outcome'] == 1]['AGE']\n",
    "\n",
    "t_test_result = stats.ttest_ind(group1, group2)\n",
    "print(f\"T-Test for Age: {t_test_result}\")"
   ]
  },
  {
   "cell_type": "code",
   "execution_count": null,
   "metadata": {},
   "outputs": [],
   "source": [
    "# Gender\n",
    "contingency_table_female = pd.crosstab(data['Outcome'], data['Female'])\n",
    "chi2_female, p_female, dof_female, ex_female = stats.chi2_contingency(contingency_table_female)\n",
    "print(f\"Chi-Square Test for Female: Chi2 = {chi2_female}, p-value = {p_female}\")"
   ]
  },
  {
   "cell_type": "code",
   "execution_count": null,
   "metadata": {},
   "outputs": [],
   "source": [
    "# Industry\n",
    "industry_columns = ['industry/1', 'industry/2', 'industry/3', 'industry/4', 'industry/5', \n",
    "                    'industry/6', 'industry/7', 'industry/A', 'industry/C', 'industry/W']\n",
    "for col in industry_columns:\n",
    "    contingency_table_industry = pd.crosstab(data['Outcome'], data[col])\n",
    "    chi2_ind, p_ind, dof_ind, ex_ind = stats.chi2_contingency(contingency_table_industry)\n",
    "    print(f\"Chi-Square Test for {col}: Chi2 = {chi2_ind}, p-value = {p_ind}\")\n",
    "\n",
    "# Combine Industry Columns into One Variable\n",
    "industry_columns = ['industry/1', 'industry/2', 'industry/3', 'industry/4', 'industry/5', \n",
    "                    'industry/6', 'industry/7', 'industry/A', 'industry/C', 'industry/W']\n",
    "data['Industry'] = data[industry_columns].idxmax(axis=1)\n",
    "\n",
    "# Chi-Square Test for Industry\n",
    "contingency_table_industry = pd.crosstab(data['Outcome'], data['Industry'])\n",
    "chi2_industry, p_industry, dof_industry, ex_industry = stats.chi2_contingency(contingency_table_industry)\n",
    "print(f\"Chi-Square Test for Industry: Chi2 = {chi2_industry}, p-value = {p_industry}\")\n"
   ]
  },
  {
   "cell_type": "code",
   "execution_count": null,
   "metadata": {},
   "outputs": [],
   "source": [
    "# Region\n",
    "region_columns = ['region/1', 'region/2', 'region/3', 'region/4', 'region/5']\n",
    "for col in region_columns:\n",
    "    contingency_table_region = pd.crosstab(data['Outcome'], data[col])\n",
    "    chi2_reg, p_reg, dof_reg, ex_reg = stats.chi2_contingency(contingency_table_region)\n",
    "    print(f\"Chi-Square Test for {col}: Chi2 = {chi2_reg}, p-value = {p_reg}\")\n",
    "\n",
    "region_columns = ['region/1', 'region/2', 'region/3', 'region/4', 'region/5']\n",
    "data['Region'] = data[region_columns].idxmax(axis=1)\n",
    "\n",
    "# Chi-Square Test for Region\n",
    "contingency_table_region = pd.crosstab(data['Outcome'], data['Region'])\n",
    "chi2_region, p_region, dof_region, ex_region = stats.chi2_contingency(contingency_table_region)\n",
    "print(f\"Chi-Square Test for Region: Chi2 = {chi2_region}, p-value = {p_region}\")"
   ]
  },
  {
   "cell_type": "markdown",
   "metadata": {},
   "source": [
    "Risk Scores "
   ]
  },
  {
   "cell_type": "code",
   "execution_count": null,
   "metadata": {},
   "outputs": [],
   "source": [
    "# load your data\n",
    "chad = pd.read_csv('') # chad results for all patients\n",
    "chad_vasc = pd.read_csv('') # chad_vasc results for all patients\n",
    "chad_female = pd.read_csv('') # chad results for female patients\n",
    "chad_male = pd.read_csv('') # chad results for male patients\n",
    "chad_vasc_female = pd.read_csv('') # chad_vasc results for female patients\n",
    "chad_vasc_male = pd.read_csv('') # chad_vasc results for male patients"
   ]
  },
  {
   "cell_type": "code",
   "execution_count": null,
   "metadata": {},
   "outputs": [],
   "source": [
    "def bootstrap_aucroc(df, score_col, outcome_col, n_iterations=1000):\n",
    "    aucroc_scores = []\n",
    "    for _ in range(n_iterations):\n",
    "        boot_sample = resample(df, replace=True, n_samples=len(df))\n",
    "        aucroc = roc_auc_score(boot_sample[outcome_col], boot_sample[score_col])\n",
    "        aucroc_scores.append(aucroc)\n",
    "    return aucroc_scores\n"
   ]
  },
  {
   "cell_type": "code",
   "execution_count": null,
   "metadata": {},
   "outputs": [],
   "source": [
    "n_iterations = 1000\n",
    "aucroc_df1 = bootstrap_aucroc(chad, 'chad_scores', 'outcome', n_iterations)\n",
    "aucroc_df2 = bootstrap_aucroc(chad_vasc, 'chad_vasc_scores', 'outcome', n_iterations)\n",
    "aucroc_differences = np.array(aucroc_df2) - np.array(aucroc_df1)\n",
    "conf_interval = np.percentile(aucroc_differences, [2.5, 97.5])\n",
    "\n",
    "observed_mean_difference = np.mean(aucroc_differences)\n",
    "p_value = np.mean(aucroc_differences >= observed_mean_difference)\n",
    "\n",
    "print(f\"95% Confidence Interval: {conf_interval}\")\n",
    "print(f\"P-value: {p_value}\")"
   ]
  },
  {
   "cell_type": "code",
   "execution_count": null,
   "metadata": {},
   "outputs": [],
   "source": [
    "n_iterations = 1000\n",
    "aucroc_df1 = bootstrap_aucroc(chad_female, 'chad_scores', 'outcome', n_iterations)\n",
    "aucroc_df2 = bootstrap_aucroc(chad_vasc_female, 'chad_vasc_scores', 'outcome', n_iterations)\n",
    "aucroc_differences = np.array(aucroc_df2) - np.array(aucroc_df1)\n",
    "conf_interval = np.percentile(aucroc_differences, [2.5, 97.5])\n",
    "\n",
    "observed_mean_difference = np.mean(aucroc_differences)\n",
    "p_value = np.mean(aucroc_differences >= observed_mean_difference)\n",
    "\n",
    "print(f\"95% Confidence Interval: {conf_interval}\")\n",
    "print(f\"P-value: {p_value}\")"
   ]
  },
  {
   "cell_type": "code",
   "execution_count": null,
   "metadata": {},
   "outputs": [],
   "source": [
    "n_iterations = 1000\n",
    "aucroc_df1 = bootstrap_aucroc(chad_male, 'chad_scores', 'outcome', n_iterations)\n",
    "aucroc_df2 = bootstrap_aucroc(chad_vasc_male, 'chad_vasc_scores', 'outcome', n_iterations)\n",
    "aucroc_differences = np.array(aucroc_df2) - np.array(aucroc_df1)\n",
    "conf_interval = np.percentile(aucroc_differences, [2.5, 97.5])\n",
    "\n",
    "observed_mean_difference = np.mean(aucroc_differences)\n",
    "p_value = np.mean(aucroc_differences >= observed_mean_difference)\n",
    "\n",
    "print(f\"95% Confidence Interval: {conf_interval}\")\n",
    "print(f\"P-value: {p_value}\")"
   ]
  }
 ],
 "metadata": {
  "kernelspec": {
   "display_name": "Python 3",
   "language": "python",
   "name": "python3"
  },
  "language_info": {
   "codemirror_mode": {
    "name": "ipython",
    "version": 3
   },
   "file_extension": ".py",
   "mimetype": "text/x-python",
   "name": "python",
   "nbconvert_exporter": "python",
   "pygments_lexer": "ipython3",
   "version": "3.11.1"
  }
 },
 "nbformat": 4,
 "nbformat_minor": 2
}
