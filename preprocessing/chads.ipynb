{
 "cells": [
  {
   "cell_type": "code",
   "execution_count": null,
   "metadata": {},
   "outputs": [],
   "source": [
    "import numpy as np\n",
    "import pandas as pd\n",
    "import matplotlib.pyplot as plt\n",
    "import re\n"
   ]
  },
  {
   "cell_type": "code",
   "execution_count": null,
   "metadata": {},
   "outputs": [],
   "source": [
    "df = pd.read_csv('data.csv') # df with full ICD-9 codes\n",
    "df2 = pd.read_csv('data2.csv') # df with first 3 digits of ICD-9 codes"
   ]
  },
  {
   "cell_type": "code",
   "execution_count": null,
   "metadata": {},
   "outputs": [],
   "source": [
    "df_list = []\n",
    "\n",
    "for idx, row in df.iterrows():\n",
    "    enrolid = row['ENROLID']\n",
    "    chf = 0\n",
    "    htn = 0\n",
    "    dm = 0\n",
    "    stroke = 0\n",
    "    vd = 0\n",
    "    \n",
    "    for dx in row[1:].astype(str):\n",
    "        if pd.isnull(dx):\n",
    "            continue\n",
    "        \n",
    "        if re.search(\"428\\\\.0|428\\\\.1|428\\\\.2|428\\\\.20\", dx):\n",
    "            chf = 1\n",
    "        if re.search(\"98|99\", dx):\n",
    "            htn = 1\n",
    "        if re.search(\"250\\\\.[0-9]\", dx):\n",
    "            dm = 1\n",
    "        if re.search(\"43[0-4]\\\\.*\", dx):\n",
    "            stroke = 1\n",
    "        if re.search(\"410\\\\.*|411\\\\.[1,8]|440.0|443.9\", dx):\n",
    "            vd = 1\n",
    "    \n",
    "    temp_df = pd.DataFrame({'enrolid': [enrolid], 'chf': [chf], 'htn': [htn], 'dm': [dm], 'stroke': [stroke], 'vd': [vd]})\n",
    "    df_list.append(temp_df)\n",
    "\n",
    "# Concatenate all mini DataFrames into the final output DataFrame\n",
    "output_df = pd.concat(df_list, ignore_index=True)\n",
    "\n",
    "print(output_df)"
   ]
  },
  {
   "cell_type": "code",
   "execution_count": null,
   "metadata": {},
   "outputs": [],
   "source": [
    "merged_df = pd.merge(output_df, df2, left_on='enrolid', right_on='ENROLID')\n",
    "chad_vasc_df = merged_df[['chf', 'htn', 'AGE', 'dm', 'stroke', 'vd', 'fem', 'outcome']]\n",
    "chad_df = merged_df[['chf', 'htn', 'AGE', 'dm', 'stroke', 'outcome']]"
   ]
  },
  {
   "cell_type": "code",
   "execution_count": null,
   "metadata": {},
   "outputs": [],
   "source": [
    "CHADS2_VASC_PTS = [1, 1, 2, 1, 2, 1, 1, 1]\n",
    "\n",
    "def chad_vasc(row):\n",
    "    feat = np.array([row['chf'],\n",
    "                     row['htn'],\n",
    "                     row['AGE'] >= 75,\n",
    "                     row['dm'],\n",
    "                     row['stroke'],\n",
    "                     row['vd'],\n",
    "                     65 <= row['AGE'] <= 74,\n",
    "                     row['fem']], dtype=int)\n",
    "    return feat.dot(CHADS2_VASC_PTS)\n",
    "\n",
    "chad_vasc_df['chad_vasc_scores'] = chad_vasc_df.apply(chad_vasc, axis=1)\n",
    "result_df = chad_vasc_df[['chad_vasc_scores', 'outcome']]\n",
    "result_df"
   ]
  },
  {
   "cell_type": "code",
   "execution_count": null,
   "metadata": {},
   "outputs": [],
   "source": [
    "CHADS2_PTS = [1, 1, 1, 1, 2]\n",
    "\n",
    "def chad(row):\n",
    "    feat = np.array([row['chf'],\n",
    "                     row['htn'],\n",
    "                     row['AGE'] >= 75,\n",
    "                     row['dm'],\n",
    "                     row['stroke']], dtype=int)\n",
    "    return feat.dot(CHADS2_PTS)\n",
    "\n",
    "chad_df['chad_scores'] = chad_df.apply(chad, axis=1).tolist()\n",
    "result_df_2 = chad_df[['chad_scores', 'outcome']]\n",
    "result_df_2"
   ]
  }
 ],
 "metadata": {
  "language_info": {
   "name": "python"
  }
 },
 "nbformat": 4,
 "nbformat_minor": 2
}
