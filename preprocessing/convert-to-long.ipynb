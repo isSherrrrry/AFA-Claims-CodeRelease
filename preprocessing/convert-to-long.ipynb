{
 "cells": [
  {
   "cell_type": "code",
   "execution_count": 1,
   "metadata": {},
   "outputs": [],
   "source": [
    "import pandas as pd"
   ]
  },
  {
   "cell_type": "code",
   "execution_count": 2,
   "metadata": {},
   "outputs": [],
   "source": [
    "#import conversion table\n",
    "conversion1 = pd.read_csv('../utils/conversion_tables/inp_icd_desc_web1.csv')\n",
    "conversion2 = pd.read_csv('../utils/conversion_tables/servp_icd_desc_web1.csv')\n",
    "conversion3 = pd.read_csv('../utils/conversion_tables/ICD10_Formatted.csv')"
   ]
  },
  {
   "cell_type": "code",
   "execution_count": null,
   "metadata": {},
   "outputs": [],
   "source": [
    "# keep only the columns we need from the I, S, O tables\n",
    "def clean_i(df):\n",
    "    df = df[['ENROLID', 'SEQNUM', 'DISDATE','DX1', 'DX2', 'DX3', 'DX4','DX5', 'DX6', 'DX7', 'DX8', 'DX9','DX10', 'DX11', 'DX12', 'DX13', 'DX14','DX15','PDX']]\n",
    "    df = df.dropna(subset=['ENROLID'])\n",
    "    return df\n",
    "def clean_o(df):\n",
    "    df = df[['ENROLID', 'SEQNUM', 'DX1', 'DX2', 'DX3', 'DX4', 'SVCDATE']]\n",
    "    df = df.dropna(subset=['ENROLID'])\n",
    "    return df\n",
    "def clean_s(df):\n",
    "    df = df[['ENROLID', 'SEQNUM', 'DX1', 'DX2', 'DX3', 'DX4', 'PDX', 'DISDATE']]\n",
    "    df = df.dropna(subset=['ENROLID'])\n",
    "    return df"
   ]
  },
  {
   "cell_type": "code",
   "execution_count": null,
   "metadata": {},
   "outputs": [],
   "source": [
    "\n",
    "# Combine the I, S, O tables into one dataframe\n",
    "def CombineI_long(df):\n",
    "    df_result = pd.melt(df, id_vars=['ENROLID', 'DISDATE'], \n",
    "                              value_vars=['DX1', 'DX2', 'DX3', 'DX4', 'DX5', 'DX6', 'DX7', 'DX8', 'DX9', 'DX10', 'DX11', 'DX12', 'DX13', 'DX14', 'DX15','PDX'], \n",
    "                              var_name='DX_var', value_name='DX')\n",
    "    df_result = df_result.drop('DX_var', axis=1)\n",
    "    return df_result\n",
    "\n",
    "def CombineO_long(df):\n",
    "    df_result = pd.melt(df, id_vars=['ENROLID', 'SVCDATE'],\n",
    "                                value_vars=['DX1', 'DX2', 'DX3', 'DX4'],\n",
    "                                var_name='DX_var', value_name='DX')\n",
    "    df_result = df_result.drop('DX_var', axis=1)\n",
    "    df_result = df_result.rename(columns={'SVCDATE': 'DISDATE'})\n",
    "    return df_result\n",
    "\n",
    "def CombineS_long(df):\n",
    "    df_result = pd.melt(df, id_vars=['ENROLID', 'DISDATE'],\n",
    "                                value_vars=['DX1', 'DX2', 'DX3', 'DX4', 'PDX'],\n",
    "                                var_name='DX_var', value_name='DX')\n",
    "    df_result = df_result.drop('DX_var', axis=1)\n",
    "    return df_result\n",
    "\n",
    "# Combine the years of data into one dataframe\n",
    "def CombineYear(df1, df2, df3, df4, df5, df6, df7, df8, df9, df10, df11):\n",
    "    df_all = pd.concat([df1, df2, df3, df4, df5, df6, df7, df8, df9, df10, df11])\n",
    "    return df_all\n"
   ]
  },
  {
   "cell_type": "code",
   "execution_count": null,
   "metadata": {},
   "outputs": [],
   "source": [
    "# utilize conversion tables to convert ICD codes\n",
    "\n",
    "conversion1['ICD9'] = conversion1['ICD9'].str.replace('.', '')\n",
    "conversion2['ICD9'] = conversion2['ICD9'].str.replace('.', '')\n",
    "conversion3['ICD9'] = conversion3['ICD9'].str.replace('.', '')\n",
    "conversion3['search'] = conversion3['search'].str.replace('.', '')\n",
    "\n",
    "onversion_combined = pd.concat([conversion1, conversion2, conversion3])\n",
    "conversion_combined = conversion_combined[['search', 'ICD9']]\n",
    "conversion_combined = conversion_combined.drop_duplicates(subset=['ICD9'], keep='first')\n",
    "conversion_combined.reset_index(drop=False, inplace=True)\n",
    "conversion_combined = conversion_combined.drop('index', axis=1)\n",
    "\n",
    "# Create a dictionary to map ICD-10 codes to ICD-9 codes\n",
    "icd10_to_icd9 = conversion_combined.set_index('search')['ICD9'].to_dict()\n",
    "icd10_to_icd9"
   ]
  }
 ],
 "metadata": {
  "kernelspec": {
   "display_name": "Python 3",
   "language": "python",
   "name": "python3"
  },
  "language_info": {
   "codemirror_mode": {
    "name": "ipython",
    "version": 3
   },
   "file_extension": ".py",
   "mimetype": "text/x-python",
   "name": "python",
   "nbconvert_exporter": "python",
   "pygments_lexer": "ipython3",
   "version": "3.11.1"
  }
 },
 "nbformat": 4,
 "nbformat_minor": 2
}
