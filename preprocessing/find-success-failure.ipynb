{
 "cells": [
  {
   "cell_type": "code",
   "execution_count": 1,
   "metadata": {},
   "outputs": [],
   "source": [
    "#import packages\n",
    "\n",
    "import pandas as pd\n",
    "import numpy as np\n",
    "from datetime import datetime, timedelta"
   ]
  },
  {
   "cell_type": "markdown",
   "metadata": {},
   "source": [
    "Functions"
   ]
  },
  {
   "cell_type": "code",
   "execution_count": 2,
   "metadata": {},
   "outputs": [],
   "source": [
    "# Add missing ID & select interested columns individually\n",
    "# type = true for i and s datasets; false for o dataset\n",
    "\n",
    "def addID(df, type):\n",
    "    \n",
    "    if (type):\n",
    "        df = df[['EFAMID','ENROLID','DISDATE']]\n",
    "        df['DISDATE'] = pd.to_datetime(df['DISDATE'])\n",
    "        df['DISDATE'] = df['DISDATE'] - timedelta(days=1)\n",
    "    if(not type):\n",
    "        df = df[['EFAMID','ENROLID','SVCDATE']]\n",
    "        df = df.rename(columns={'EFAMID': 'EFAMID', 'ENROLID':'ENROLID', 'SVCDATE':'DISDATE'})\n",
    "        df['DISDATE'] = pd.to_datetime(df['DISDATE'])\n",
    "    \n",
    "    for index in df.index:\n",
    "        if np.isnan(df['ENROLID'][index]):\n",
    "            famId = df['EFAMID'][index]\n",
    "            newID = str(famId) + \"_fam\"\n",
    "            df['ENROLID'][index] = newID\n",
    "            \n",
    "    df['ENROLID'].astype(str)\n",
    "    df = df[['ENROLID', 'DISDATE']]\n",
    "    \n",
    "    return df"
   ]
  },
  {
   "cell_type": "code",
   "execution_count": 3,
   "metadata": {},
   "outputs": [],
   "source": [
    "def CombineYear(df1, df2, df3):\n",
    "    df_all = pd.concat([df1, df2, df3])\n",
    "    df_all.reset_index(drop=False, inplace=True)\n",
    "    df_all = df_all[['ENROLID', 'DISDATE']]\n",
    "    return df_all.drop_duplicates()"
   ]
  },
  {
   "cell_type": "code",
   "execution_count": 4,
   "metadata": {},
   "outputs": [],
   "source": [
    "# find if any previous AF occurance in the current year\n",
    "def AFCodingCurrent(allData, afaData):\n",
    "    allData[allData.duplicated(subset=['ENROLID'], keep='last')]\n",
    "    df = pd.DataFrame(columns=[['ENROLID', 'DISDATE']])\n",
    "    allData['DISDATE'] = pd.to_datetime(allData['DISDATE'])\n",
    "    afaData['DISDATE'] = pd.to_datetime(afaData['DISDATE'])\n",
    "    for index in afaData.index:\n",
    "        if afaData['ENROLID'][index] in allData.ENROLID.values.tolist():\n",
    "            df.loc[len(df.index)] = [afaData['ENROLID'][index], afaData['DISDATE'][index]] \n",
    "    return df"
   ]
  },
  {
   "cell_type": "code",
   "execution_count": 5,
   "metadata": {},
   "outputs": [],
   "source": [
    "# find if any previous AF occurance in the previous year\n",
    "def AFCodingPrev(allDataPrev, afaData):\n",
    "    df = pd.DataFrame(columns=[['ENROLID', 'DISDATE']])\n",
    "    for index in afaData.index:\n",
    "        if afaData['ENROLID'][index] in allDataPrev.ENROLID.values.tolist():\n",
    "            df.loc[len(df.index)] = [afaData['ENROLID'][index], afaData['DISDATE'][index]] \n",
    "    return df"
   ]
  },
  {
   "cell_type": "code",
   "execution_count": 6,
   "metadata": {},
   "outputs": [],
   "source": [
    "def CombineAFCoding(df1, df2):\n",
    "    df_all = pd.concat([df1, df2])\n",
    "    df_all.reset_index(drop=True, inplace=True)\n",
    "    return df_all.drop_duplicates()"
   ]
  },
  {
   "cell_type": "code",
   "execution_count": 8,
   "metadata": {},
   "outputs": [],
   "source": [
    "# find if any reoccurence of AF within 180 days of the current year\n",
    "def FindFailureCurr6(allData, afaData):\n",
    "    allData = allData[allData.duplicated(subset=['ENROLID'], keep=False)]\n",
    "    allData = allData.sort_values('DISDATE').drop_duplicates(['ENROLID'], keep='last')\n",
    "    df = pd.DataFrame(columns=[['ENROLID', 'DISDATE']])\n",
    "    for index in afaData.index:\n",
    "        id_num = afaData['ENROLID'].iloc[index][0]\n",
    "        indexDate = allData.index[allData.ENROLID == id_num].tolist()\n",
    "        if len(indexDate) == 0:\n",
    "            continue\n",
    "        else:\n",
    "            indexDate = indexDate[0]\n",
    "            Alldate = allData['DISDATE'][indexDate] #date of last AF\n",
    "            curDate = afaData['DISDATE'].iloc[index][0] #date of AFA\n",
    "            if ((curDate + timedelta(days=180)) < Alldate):\n",
    "                df.loc[len(df.index)] = [afaData['ENROLID'].iloc[index][0], afaData['DISDATE'].iloc[index][0]] \n",
    "    return df"
   ]
  },
  {
   "cell_type": "code",
   "execution_count": 10,
   "metadata": {},
   "outputs": [],
   "source": [
    "# find if any reoccurence of AF within 180 days of the next year\n",
    "def FindFailureNext6(allData, afaData):\n",
    "    allData = allData[allData.duplicated(subset=['ENROLID'], keep=False)]\n",
    "    allData = allData.sort_values('DISDATE').drop_duplicates(['ENROLID'], keep='last')\n",
    "    df = pd.DataFrame(columns=[['ENROLID', 'DISDATE']])\n",
    "    for index in afaData.index:\n",
    "        id_num = afaData['ENROLID'].iloc[index][0]\n",
    "        indexDate = allData.index[allData.ENROLID == id_num].tolist()\n",
    "        if len(indexDate) == 0:\n",
    "            continue\n",
    "        else:\n",
    "            indexDate = indexDate[0]\n",
    "            Alldate = allData[\"DISDATE\"][indexDate]\n",
    "            curDate = afaData['DISDATE'].iloc[index][0]\n",
    "            if (((curDate + timedelta(days=365)) >= Alldate) and (curDate + timedelta(days=180)) < Alldate):\n",
    "                df.loc[len(df.index)] = [afaData['ENROLID'].iloc[index][0], afaData['DISDATE'].iloc[index][0]] \n",
    "    return df"
   ]
  },
  {
   "cell_type": "code",
   "execution_count": 11,
   "metadata": {},
   "outputs": [],
   "source": [
    "def CombineSuccess(failure, alldata):\n",
    "    failure.columns = [[\"ENROLID\",\"DISDATE\"]]\n",
    "    alldata.columns = [[\"ENROLID\",\"DISDATE\"]]\n",
    "    df_all = pd.concat([failure, alldata])\n",
    "    df_all.reset_index(drop=False, inplace=True)\n",
    "    df_all = df_all[['ENROLID', 'DISDATE']]\n",
    "    return df_all.drop_duplicates(keep=False)"
   ]
  }
 ],
 "metadata": {
  "kernelspec": {
   "display_name": "Python 3 (ipykernel)",
   "language": "python",
   "name": "python3"
  },
  "language_info": {
   "codemirror_mode": {
    "name": "ipython",
    "version": 3
   },
   "file_extension": ".py",
   "mimetype": "text/x-python",
   "name": "python",
   "nbconvert_exporter": "python",
   "pygments_lexer": "ipython3",
   "version": "3.11.1"
  }
 },
 "nbformat": 4,
 "nbformat_minor": 2
}
